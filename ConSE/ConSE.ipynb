{
  "nbformat": 4,
  "nbformat_minor": 0,
  "metadata": {
    "colab": {
      "name": "ConSE.ipynb",
      "provenance": [],
      "collapsed_sections": [],
      "toc_visible": true
    },
    "kernelspec": {
      "display_name": "Python 3",
      "name": "python3"
    }
  },
  "cells": [
    {
      "cell_type": "markdown",
      "metadata": {
        "id": "k6VBOrJ4KBso"
      },
      "source": [
        "# CNN"
      ]
    },
    {
      "cell_type": "code",
      "metadata": {
        "id": "cUANmkjwJQJw"
      },
      "source": [
        "from keras.models import Sequential\n",
        "from keras.layers.convolutional import Conv2D\n",
        "from keras.layers.convolutional import MaxPooling2D\n",
        "from keras.layers.core import Activation\n",
        "from keras.layers.core import Flatten,Dropout\n",
        "from tensorflow.keras.layers import BatchNormalization\n",
        "from keras.layers.core import Dense # fully-connected net\n",
        "from keras import backend as K\n",
        "\n",
        "# simple cnn model on cifar10 small images dataset\n",
        "\n",
        "class Cnn:\n",
        "  @staticmethod\n",
        "  def build(width, height, depth, classes):\n",
        "    # parameter: classes means the total number of classes we want to recognize\n",
        "    #initialize the model\n",
        "    model = Sequential()\n",
        "    inputShape = (height, width, depth)\n",
        "\n",
        "    # if we are using \"channel first\", update the input shape\n",
        "    # in some situation like TH, use channel first\n",
        "    if K.image_data_format() == \"channel_first\":\n",
        "      inputShape = (depth, height, width)\n",
        "\n",
        "    # first set of CONV => RELU => POOL layers => Dropout\n",
        "    # conv layer will learn 32 convolution filters, each of which are 3*3\n",
        "    model.add(Conv2D(32, (3, 3),padding = \"same\",input_shape = inputShape))\n",
        "    model.add(Activation(\"relu\"))\n",
        "    model.add(Conv2D(32, (3, 3)))\n",
        "    model.add(Activation('relu'))\n",
        "    model.add(MaxPooling2D(pool_size=(2,2)))\n",
        "    model.add(Dropout(0.25))\n",
        "\n",
        "    # second set of CONV => RELU => POOL layers => Dropout\n",
        "    model.add(Conv2D(64, (3, 3),padding = \"same\"))\n",
        "    model.add(Activation(\"relu\"))\n",
        "    model.add(Conv2D(64, (3, 3)))\n",
        "    model.add(Activation('relu'))\n",
        "    model.add(MaxPooling2D(pool_size=(2,2)))\n",
        "    model.add(Dropout(0.25))\n",
        "\n",
        "    # flattening out the volume into a set of fully-connected layer\n",
        "    # first and only set of FC => RELU laters\n",
        "    model.add(Flatten())\n",
        "    # fully-connected layer has 512 units\n",
        "    model.add(Dense(512))\n",
        "    model.add(Activation(\"relu\"))\n",
        "    model.add(Dropout(0.5))\n",
        "\n",
        "    # softmax classifier (output layer)\n",
        "    model.add(Dense(classes))\n",
        "    model.add(Activation(\"softmax\"))\n",
        "\n",
        "    #return the constructed network architecture\n",
        "    return model"
      ],
      "execution_count": 35,
      "outputs": []
    },
    {
      "cell_type": "code",
      "metadata": {
        "id": "7Qp7iQBODEU0",
        "outputId": "d48690e4-b7f7-413b-b6e4-980203c42394",
        "colab": {
          "base_uri": "https://localhost:8080/"
        }
      },
      "source": [
        "model = Cnn.build(width=32, height=32, depth=3, classes=8)\n",
        "print(model.summary())"
      ],
      "execution_count": null,
      "outputs": [
        {
          "output_type": "stream",
          "text": [
            "Model: \"sequential\"\n",
            "_________________________________________________________________\n",
            "Layer (type)                 Output Shape              Param #   \n",
            "=================================================================\n",
            "conv2d (Conv2D)              (None, 32, 32, 32)        896       \n",
            "_________________________________________________________________\n",
            "activation (Activation)      (None, 32, 32, 32)        0         \n",
            "_________________________________________________________________\n",
            "conv2d_1 (Conv2D)            (None, 30, 30, 32)        9248      \n",
            "_________________________________________________________________\n",
            "activation_1 (Activation)    (None, 30, 30, 32)        0         \n",
            "_________________________________________________________________\n",
            "max_pooling2d (MaxPooling2D) (None, 15, 15, 32)        0         \n",
            "_________________________________________________________________\n",
            "dropout (Dropout)            (None, 15, 15, 32)        0         \n",
            "_________________________________________________________________\n",
            "conv2d_2 (Conv2D)            (None, 15, 15, 64)        18496     \n",
            "_________________________________________________________________\n",
            "activation_2 (Activation)    (None, 15, 15, 64)        0         \n",
            "_________________________________________________________________\n",
            "conv2d_3 (Conv2D)            (None, 13, 13, 64)        36928     \n",
            "_________________________________________________________________\n",
            "activation_3 (Activation)    (None, 13, 13, 64)        0         \n",
            "_________________________________________________________________\n",
            "max_pooling2d_1 (MaxPooling2 (None, 6, 6, 64)          0         \n",
            "_________________________________________________________________\n",
            "dropout_1 (Dropout)          (None, 6, 6, 64)          0         \n",
            "_________________________________________________________________\n",
            "flatten (Flatten)            (None, 2304)              0         \n",
            "_________________________________________________________________\n",
            "dense (Dense)                (None, 512)               1180160   \n",
            "_________________________________________________________________\n",
            "activation_4 (Activation)    (None, 512)               0         \n",
            "_________________________________________________________________\n",
            "dropout_2 (Dropout)          (None, 512)               0         \n",
            "_________________________________________________________________\n",
            "dense_1 (Dense)              (None, 8)                 4104      \n",
            "_________________________________________________________________\n",
            "activation_5 (Activation)    (None, 8)                 0         \n",
            "=================================================================\n",
            "Total params: 1,249,832\n",
            "Trainable params: 1,249,832\n",
            "Non-trainable params: 0\n",
            "_________________________________________________________________\n",
            "None\n"
          ],
          "name": "stdout"
        }
      ]
    },
    {
      "cell_type": "code",
      "metadata": {
        "id": "-ZLWwjn2LU3E"
      },
      "source": [
        "import numpy as np\n",
        "\n",
        "def get_vectors():\n",
        "    vectors = {}\n",
        "    #f=open(\"glove.6B.50d.txt\")\n",
        "    f=open(\"glove.6B.300d.txt\")\n",
        "    classes = ['airplane', 'automobile', 'bird', 'cat', 'deer', 'dog', 'frog', 'horse','ship', 'truck']\n",
        "    for i in f:\n",
        "        word = i.split()[0]\n",
        "        if word in classes:\n",
        "          vectors[word] = i.split()[1:]\n",
        "    return vectors"
      ],
      "execution_count": 37,
      "outputs": []
    },
    {
      "cell_type": "code",
      "metadata": {
        "id": "ZKTMwhFFIyD_"
      },
      "source": [
        "# Real-time ploting\n",
        "import matplotlib.pyplot as plt\n",
        "import keras\n",
        "from IPython.display import clear_output\n",
        "\n",
        "class PlotLosses(keras.callbacks.Callback):\n",
        "    def on_train_begin(self, logs={}):\n",
        "        self.i = 0\n",
        "        self.x = []\n",
        "        self.losses = []\n",
        "        self.val_losses = []\n",
        "        \n",
        "        self.fig = plt.figure()\n",
        "        \n",
        "        self.logs = []\n",
        "\n",
        "    def on_epoch_end(self, epoch, logs={}):\n",
        "        \n",
        "        self.logs.append(logs)\n",
        "        self.x.append(self.i)\n",
        "        self.losses.append(logs.get('loss'))\n",
        "        self.val_losses.append(logs.get('val_loss'))\n",
        "        self.i += 1\n",
        "        \n",
        "        clear_output(wait=True)\n",
        "        plt.plot(self.x, self.losses, label=\"loss\")\n",
        "        plt.plot(self.x, self.val_losses, label=\"val_loss\")\n",
        "        plt.legend()\n",
        "        plt.show();\n",
        "        "
      ],
      "execution_count": 38,
      "outputs": []
    },
    {
      "cell_type": "markdown",
      "metadata": {
        "id": "n0Ek3db6Lzos"
      },
      "source": [
        "# Training stage"
      ]
    },
    {
      "cell_type": "code",
      "metadata": {
        "id": "PAn8tMW1K0YY",
        "outputId": "fc837991-c873-4800-b527-39bafbb50c5d",
        "colab": {
          "base_uri": "https://localhost:8080/",
          "height": 300
        }
      },
      "source": [
        "\"\"\" \n",
        "we will do 4 things in this file\n",
        "1. Load image dataset from disk, get word vector\n",
        "2. Pre-process the images if needed\n",
        "3. Instantiate out convolutional neural network\n",
        "4. Train out image classifier getting top N classification probability of image\n",
        "5. Combine probability and word vector getting class of image\n",
        "\"\"\"\n",
        "\n",
        "from __future__ import print_function\n",
        "import keras\n",
        "from keras.datasets import cifar10\n",
        "from keras.preprocessing.image import ImageDataGenerator\n",
        "from keras.optimizers import Adam\n",
        "from sklearn.model_selection import train_test_split\n",
        "from keras.preprocessing.image import img_to_array\n",
        "from keras.utils import to_categorical\n",
        "import tensorflow as tf\n",
        "#from cnn import Cnn\n",
        "#import word_vector\n",
        "import numpy as np\n",
        "import cv2\n",
        "import os\n",
        "from keras.models import load_model\n",
        "\n",
        "# initialize the number of epochs to train for, initial learning rate and batch size\n",
        "batch_size = 32\n",
        "num_classes = 8\n",
        "epochs = 50\n",
        "optimizer = \"Adam\"\n",
        "data_augmentation = False\n",
        "num_predictions = 20\n",
        "save_dir = os.path.join(os.getcwd(), 'saved_models')\n",
        "model_name = 'keras_zsl_cifar10_trained_model.h5'\n",
        "\n",
        "# The data, split between train and test sets:\n",
        "(x_train, y_train), (x_test, y_test) = cifar10.load_data()\n",
        "class_labels = ['airplane', 'automobile', 'bird', 'cat', 'deer', 'dog', 'frog', 'horse', 'ship', 'truck']\n",
        "print('x_train shape:', x_train.shape)\n",
        "print(x_train.shape[0], 'train samples')\n",
        "print(x_test.shape[0], 'test samples')\n",
        "\n",
        "# remove ship and truck class to get train data\n",
        "removed_indices = np.where(y_train!=8)[0]\n",
        "x_new_train = x_train[removed_indices]\n",
        "y_new_train = y_train[removed_indices]\n",
        "removed_indices = np.where(y_new_train!=9)[0]\n",
        "x_new_train = x_new_train[removed_indices]\n",
        "y_new_train = y_new_train[removed_indices]\n",
        "\n",
        "# remove ship and truck class to get validation data\n",
        "removed_indices = np.where(y_test!=8)[0]\n",
        "x_new_validation = x_test[removed_indices]\n",
        "y_new_validation = y_test[removed_indices]\n",
        "removed_indices = np.where(y_new_validation!=9)[0]\n",
        "x_new_validation = x_new_validation[removed_indices]\n",
        "y_new_validation = y_new_validation[removed_indices]\n",
        "\n",
        "# Convert class vectors to binary class matrices, like one-hot-encoding\n",
        "y_new_train = keras.utils.to_categorical(y_new_train,num_classes)\n",
        "y_new_validation = keras.utils.to_categorical(y_new_validation,num_classes)\n",
        "\n",
        "x_new_train = x_new_train.astype('float32')\n",
        "x_new_validation = x_new_validation.astype('float32')\n",
        "x_new_train /= 255\n",
        "x_new_validation /= 255\n",
        "\n",
        "plot_losses = PlotLosses()\n",
        "\n",
        "model = Cnn.build(width=32, height=32, depth=3, classes=8)\n",
        "\n",
        "if optimizer == \"rms\":\n",
        "  # initiate RMSprop optimizer\n",
        "  opt = keras.optimizers.RMSprop(lr=0.0001, decay=1e-6)\n",
        "else:\n",
        "  # initiate Adam optimizer\n",
        "  opt = keras.optimizers.Adam(lr=0.001)\n",
        "\n",
        "#  categorical_crossentropy\n",
        "\n",
        "callback = tf.keras.callbacks.EarlyStopping(monitor='val_loss', patience=4)\n",
        "\n",
        "# Let's train the model using RMSprop\n",
        "model.compile(loss='categorical_crossentropy',\n",
        "              optimizer=opt,\n",
        "              metrics=['accuracy'])\n",
        "if not data_augmentation:\n",
        "    print('Not using data augmentation.')\n",
        "    model.fit(x_new_train, y_new_train,\n",
        "              batch_size=batch_size,\n",
        "              epochs=epochs,\n",
        "              validation_data=(x_new_validation, y_new_validation),\n",
        "              callbacks=[plot_losses, callback],\n",
        "              shuffle=True)\n",
        "else:\n",
        "    print('Using real-time data augmentation.')\n",
        "    # This will do preprocessing and realtime data augmentation:\n",
        "    datagen = ImageDataGenerator(\n",
        "        featurewise_center=False,  # set input mean to 0 over the dataset\n",
        "        samplewise_center=False,  # set each sample mean to 0\n",
        "        featurewise_std_normalization=False,  # divide inputs by std of the dataset\n",
        "        samplewise_std_normalization=False,  # divide each input by its std\n",
        "        zca_whitening=False,  # apply ZCA whitening\n",
        "        rotation_range=0,  # randomly rotate images in the range (degrees, 0 to 180)\n",
        "        width_shift_range=0.1,  # randomly shift images horizontally (fraction of total width)\n",
        "        height_shift_range=0.1,  # randomly shift images vertically (fraction of total height)\n",
        "        horizontal_flip=True,  # randomly flip images\n",
        "        vertical_flip=False)  # randomly flip images\n",
        "    # Compute quantities required for feature-wise normalization\n",
        "    # (std, mean, and principal components if ZCA whitening is applied).\n",
        "    datagen.fit(x_train)\n",
        "    # Fit the model on the batches generated by datagen.flow().\n",
        "    model.fit_generator(datagen.flow(x_new_train, y_new_train,\n",
        "                                     batch_size=batch_size),\n",
        "                        epochs=epochs,\n",
        "                        validation_data=(x_new_validation, y_new_validation),\n",
        "                        workers=4)\n",
        "# Save model and weights\n",
        "if not os.path.isdir(save_dir):\n",
        "    os.makedirs(save_dir)\n",
        "model_path = os.path.join(save_dir, model_name)\n",
        "model.save(model_path)\n",
        "print('Saved trained model at %s ' % model_path)"
      ],
      "execution_count": 39,
      "outputs": [
        {
          "output_type": "display_data",
          "data": {
            "image/png": "[encoded data removed]",
            "text/plain": [
              "<Figure size 432x288 with 1 Axes>"
            ]
          },
          "metadata": {
            "tags": [],
            "needs_background": "light"
          }
        },
        {
          "output_type": "stream",
          "text": [
            "\b\b\b\b\b\b\b\b\b\b\b\b\b\b\b\b\b\b\b\b\b\b\b\b\b\b\b\b\b\b\b\b\b\b\b\b\b\b\b\b\b\b\b\b\b\b\b\b\b\b\b\b\b\b\b\b\b\b\b\b\b\b\b\b\b\b\b\b\b\b\b\b\b\b\b\b\b\b\b\b\b\b\b\b\b\b\r1250/1250 [==============================] - 179s 143ms/step - loss: 0.5136 - accuracy: 0.8152 - val_loss: 0.6794 - val_accuracy: 0.7738\n",
            "Saved trained model at /content/saved_models/keras_zsl_cifar10_trained_model.h5 \n"
          ],
          "name": "stdout"
        }
      ]
    },
    {
      "cell_type": "code",
      "metadata": {
        "id": "LE7_RB41HLuv"
      },
      "source": [
        "def cosine_similarity(v1, v2):\n",
        "    \"\"\"\n",
        "    Performs cosine similarity measure between two given vectors - v1 and v2, s.t. cosine_similarity = (v1.v2)/(||v1||.||v2||)\n",
        "\n",
        "    Arguments:\n",
        "    v1 -- a real-number vector\n",
        "    v2 -- a real-number vector\n",
        "\n",
        "    Returns:\n",
        "    cos -- the value of similarity between v1 and v2\n",
        "    \"\"\"\n",
        "    cos = (np.dot(v1,v2))/(np.linalg.norm(v1)*np.linalg.norm(v2))\n",
        "\n",
        "    return cos"
      ],
      "execution_count": null,
      "outputs": []
    },
    {
      "cell_type": "markdown",
      "metadata": {
        "id": "r6rnlY81Lv0c"
      },
      "source": [
        "# Test stage"
      ]
    },
    {
      "cell_type": "code",
      "metadata": {
        "id": "GuhwxQkiLt4A",
        "outputId": "61efcc46-5082-41e4-a3a2-092d8f9e9bbe",
        "colab": {
          "base_uri": "https://localhost:8080/"
        }
      },
      "source": [
        "from keras.models import load_model\n",
        "\n",
        "print(\"[INFO] loading network...\")\n",
        "model = load_model('saved_models/keras_zsl_cifar10_trained_model.h5')\n",
        "\n",
        "indices = np.where(y_test >= 8)[0]\n",
        "y_new_test = y_test[indices]\n",
        "x_new_test = x_test[indices]\n",
        "\n",
        "# combine probability got from cnn and word vector\n",
        "cnn_prob = model.predict(x_new_test)\n",
        "\n",
        "# get word vectors of seen classes\n",
        "embeddings = get_vectors()\n",
        "weights = []\n",
        "for i in class_labels[:-2]:\n",
        "  weights.append(embeddings[i])\n",
        "weights = np.array(weights,dtype=np.float32)\n",
        "\n",
        "# Predicted word embedding by convex combination\n",
        "cnn_embedding = np.dot(cnn_prob,weights)\n",
        "\n",
        "# Get all target_embeddings\n",
        "target_embeddings = []\n",
        "for i in class_labels:\n",
        "\ttarget_embeddings.append(embeddings[i])\n",
        "target_embeddings = np.array(target_embeddings, dtype=np.float32)\n",
        "\n",
        "# Use KNN to find the nearest class\n",
        "from scipy.spatial import distance\n",
        "from sklearn.metrics import accuracy_score\n",
        "\n",
        "n_samples = cnn_embedding.shape[0]\n",
        "\n",
        "# Calculate distance between the estimated representation and the projected prototypes\n",
        "dist = distance.cdist(cnn_embedding, target_embeddings, metric='cosine')\n",
        "# Get the index of min distances\n",
        "idx_min = np.argmin(dist, axis=1)\n",
        "# Get the labels of predictions\n",
        "preds = y_new_test[[i for i in idx_min]]\n",
        "\n",
        "# Calculate Top-1 accuracy\n",
        "diff = y_new_test - preds\n",
        "n_incorrect = len(np.nonzero(diff)[0])\n",
        "mean_accuracy = (n_samples - n_incorrect) / n_samples\n",
        "    \n",
        "print(\"Accuracy: %.2f%%\" % (mean_accuracy*100))\n",
        "#for i,j in zip(y_new_test, preds):\n",
        "#    print (i,j)"
      ],
      "execution_count": 40,
      "outputs": [
        {
          "output_type": "stream",
          "text": [
            "[INFO] loading network...\n",
            "Accuracy: 50.40%\n"
          ],
          "name": "stdout"
        }
      ]
    }
  ]
}